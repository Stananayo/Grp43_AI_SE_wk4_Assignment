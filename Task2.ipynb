{
  "nbformat": 4,
  "nbformat_minor": 0,
  "metadata": {
    "colab": {
      "provenance": [],
      "authorship_tag": "ABX9TyNC+JWbndfxVypQMCvj8q7X",
      "include_colab_link": true
    },
    "kernelspec": {
      "name": "python3",
      "display_name": "Python 3"
    },
    "language_info": {
      "name": "python"
    }
  },
  "cells": [
    {
      "cell_type": "markdown",
      "metadata": {
        "id": "view-in-github",
        "colab_type": "text"
      },
      "source": [
        "<a href=\"https://colab.research.google.com/github/Stananayo/Grp43_AI_SE_wk4_Assignment/blob/main/Task2.ipynb\" target=\"_parent\"><img src=\"https://colab.research.google.com/assets/colab-badge.svg\" alt=\"Open In Colab\"/></a>"
      ]
    },
    {
      "cell_type": "code",
      "execution_count": null,
      "metadata": {
        "id": "xqjGR4yBwNW2"
      },
      "outputs": [],
      "source": [
        "## Task 2: Automated Testing with AI\n",
        "\n",
        "## Framework: Use Selenium IDE with AI plugins or Testim.io.\n",
        "\n",
        "## Task:\n",
        "\n",
        "### Automate a test case for a login page (valid/invalid credentials).\n",
        "\n",
        "### Run the test and capture results (success/failure rates).\n",
        "\n",
        "### Explain how AI improves test coverage compared to manual testing.\n",
        "\n",
        "### Deliverable: Test script + screenshot of results + 150-word summary\n",
        "\n"
      ]
    },
    {
      "cell_type": "markdown",
      "metadata": {
        "id": "ee3495db"
      },
      "source": [
        "# Task\n",
        "Automate a test case for a login page (valid/invalid credentials) using either Selenium IDE with AI plugins or Testim.io. Run the test, capture results (success/failure rates), and provide a 150-word summary explaining how AI improves test coverage compared to manual testing. Deliverables: Test script, screenshot of results, and the summary."
      ]
    },
    {
      "cell_type": "markdown",
      "metadata": {
        "id": "2d788c92"
      },
      "source": [
        "## Choose a tool\n",
        "\n",
        "### Subtask:\n",
        "Select either Selenium IDE with AI plugins or Testim.io for automated testing.\n"
      ]
    },
    {
      "cell_type": "markdown",
      "metadata": {
        "id": "b1ca56a0"
      },
      "source": [
        "**Reasoning**:\n",
        "Based on the research of both tools, Testim.io offers more advanced AI features for test maintenance and stability compared to Selenium IDE with AI plugins, making it a better choice for demonstrating how AI improves test coverage.\n",
        "\n"
      ]
    },
    {
      "cell_type": "code",
      "metadata": {
        "colab": {
          "base_uri": "https://localhost:8080/"
        },
        "id": "3c2eae07",
        "outputId": "03a0e8cf-2ce5-4c72-fb33-080c859e2697"
      },
      "source": [
        "tool_choice = \"Testim.io\"\n",
        "reasons = \"\"\"\n",
        "Testim.io was chosen over Selenium IDE with AI plugins primarily due to its more robust and advanced AI capabilities specifically designed for test maintenance and stability. While Selenium IDE with AI plugins offers some AI features, Testim.io's AI is more deeply integrated into the test creation and execution process, providing better self-healing tests and improved element locators. This is crucial for demonstrating how AI can significantly reduce the effort required for test maintenance and increase test coverage by making tests more resilient to UI changes. Additionally, Testim.io generally offers a more user-friendly interface for creating and managing tests, which is beneficial for this task.\n",
        "\"\"\"\n",
        "print(f\"Selected tool: {tool_choice}\")\n",
        "print(f\"Reasons for selection: {reasons}\")"
      ],
      "execution_count": 1,
      "outputs": [
        {
          "output_type": "stream",
          "name": "stdout",
          "text": [
            "Selected tool: Testim.io\n",
            "Reasons for selection: \n",
            "Testim.io was chosen over Selenium IDE with AI plugins primarily due to its more robust and advanced AI capabilities specifically designed for test maintenance and stability. While Selenium IDE with AI plugins offers some AI features, Testim.io's AI is more deeply integrated into the test creation and execution process, providing better self-healing tests and improved element locators. This is crucial for demonstrating how AI can significantly reduce the effort required for test maintenance and increase test coverage by making tests more resilient to UI changes. Additionally, Testim.io generally offers a more user-friendly interface for creating and managing tests, which is beneficial for this task.\n",
            "\n"
          ]
        }
      ]
    },
    {
      "cell_type": "markdown",
      "metadata": {
        "id": "92f2c55c"
      },
      "source": [
        "## Set up the environment\n",
        "\n",
        "### Subtask:\n",
        "Install and configure the chosen tool, Testim.io.\n"
      ]
    },
    {
      "cell_type": "markdown",
      "metadata": {
        "id": "8c85921c"
      },
      "source": [
        "## Identify a login page\n",
        "\n",
        "### Subtask:\n",
        "Identify a suitable login page to automate the test case for.\n"
      ]
    },
    {
      "cell_type": "markdown",
      "metadata": {
        "id": "7fc344a2"
      },
      "source": [
        "## Record/create test case\n",
        "\n",
        "### Subtask:\n",
        "Use Testim.io to record or create a test case for both valid and invalid login credentials.\n"
      ]
    },
    {
      "cell_type": "markdown",
      "metadata": {
        "id": "f79b83cd"
      },
      "source": [
        "## Run the test\n",
        "\n",
        "### Subtask:\n",
        "Execute the automated test case created in Testim.io for both valid and invalid login attempts.\n"
      ]
    },
    {
      "cell_type": "markdown",
      "metadata": {
        "id": "6df2992a"
      },
      "source": [
        "## Capture results\n",
        "\n",
        "### Subtask:\n",
        "Capture screenshots of the test results from Testim.io, including success and failure rates.\n"
      ]
    },
    {
      "cell_type": "markdown",
      "metadata": {
        "id": "010ea3ab"
      },
      "source": [
        "## Explain ai's role\n",
        "\n",
        "### Subtask:\n",
        "Write a 150-word summary explaining how AI improves test coverage compared to manual testing in the context of automated testing tools.\n"
      ]
    },
    {
      "cell_type": "markdown",
      "metadata": {
        "id": "827965d0"
      },
      "source": [
        "**Reasoning**:\n",
        "Draft a 150-word summary explaining how AI improves test coverage compared to manual testing.\n",
        "\n"
      ]
    },
    {
      "cell_type": "code",
      "metadata": {
        "colab": {
          "base_uri": "https://localhost:8080/"
        },
        "id": "a69fb95a",
        "outputId": "a62dddc4-7ec6-4d30-e8a3-fdfb11bba9de"
      },
      "source": [
        "summary = \"\"\"\n",
        "AI significantly enhances test coverage in automated testing tools like Testim.io by addressing key limitations of manual testing. While manual testing is often limited by human capacity and prone to overlooking edge cases, AI-powered tools can explore a wider range of scenarios more efficiently. AI improves element identification, making tests more robust against UI changes and reducing maintenance effort, which in turn allows for more tests to be created and maintained. Furthermore, AI can potentially analyze user behavior and application changes to suggest or even generate new test cases, leading to more comprehensive coverage that reflects actual usage patterns. This adaptability and scalability of AI-driven automation far exceed the capabilities of manual testing in achieving and maintaining high test coverage.\n",
        "\"\"\"\n",
        "print(summary)"
      ],
      "execution_count": 2,
      "outputs": [
        {
          "output_type": "stream",
          "name": "stdout",
          "text": [
            "\n",
            "AI significantly enhances test coverage in automated testing tools like Testim.io by addressing key limitations of manual testing. While manual testing is often limited by human capacity and prone to overlooking edge cases, AI-powered tools can explore a wider range of scenarios more efficiently. AI improves element identification, making tests more robust against UI changes and reducing maintenance effort, which in turn allows for more tests to be created and maintained. Furthermore, AI can potentially analyze user behavior and application changes to suggest or even generate new test cases, leading to more comprehensive coverage that reflects actual usage patterns. This adaptability and scalability of AI-driven automation far exceed the capabilities of manual testing in achieving and maintaining high test coverage.\n",
            "\n"
          ]
        }
      ]
    },
    {
      "cell_type": "markdown",
      "metadata": {
        "id": "0a3c770a"
      },
      "source": [
        "## Deliverables\n",
        "\n",
        "### Subtask:\n",
        "Combine the test script, screenshots of results, and the summary into a single deliverable.\n"
      ]
    },
    {
      "cell_type": "markdown",
      "metadata": {
        "id": "dd85ae22"
      },
      "source": [
        "**Reasoning**:\n",
        "Combine the available summary with an explanation of why the test script and screenshots are not included, acknowledging the limitations encountered in previous steps.\n",
        "\n"
      ]
    },
    {
      "cell_type": "code",
      "metadata": {
        "colab": {
          "base_uri": "https://localhost:8080/"
        },
        "id": "f601d837",
        "outputId": "ad74d48e-f405-426a-fe65-958bff2ca2c7"
      },
      "source": [
        "print(\"Deliverable: Summary on AI's role in improving test coverage.\")\n",
        "print(\"\\nDue to limitations in the environment, the test script and screenshots of the test results could not be generated or captured programmatically. The automation of the test case using Testim.io and the capturing of results required manual interaction with the Testim.io platform and a web browser, which is not feasible within this execution environment.\")\n",
        "print(\"\\nHere is the summary explaining how AI improves test coverage compared to manual testing:\\n\")\n",
        "print(\"\"\"\n",
        "AI significantly enhances test coverage in automated testing tools like Testim.io by addressing key limitations of manual testing. While manual testing is often limited by human capacity and prone to overlooking edge cases, AI-powered tools can explore a wider range of scenarios more efficiently. AI improves element identification, making tests more robust against UI changes and reducing maintenance effort, which in turn allows for more tests to be created and maintained. Furthermore, AI can potentially analyze user behavior and application changes to suggest or even generate new test cases, leading to more comprehensive coverage that reflects actual usage patterns. This adaptability and scalability of AI-driven automation far exceed the capabilities of manual testing in achieving and maintaining high test coverage.\n",
        "\"\"\")"
      ],
      "execution_count": 3,
      "outputs": [
        {
          "output_type": "stream",
          "name": "stdout",
          "text": [
            "Deliverable: Summary on AI's role in improving test coverage.\n",
            "\n",
            "Due to limitations in the environment, the test script and screenshots of the test results could not be generated or captured programmatically. The automation of the test case using Testim.io and the capturing of results required manual interaction with the Testim.io platform and a web browser, which is not feasible within this execution environment.\n",
            "\n",
            "Here is the summary explaining how AI improves test coverage compared to manual testing:\n",
            "\n",
            "\n",
            "AI significantly enhances test coverage in automated testing tools like Testim.io by addressing key limitations of manual testing. While manual testing is often limited by human capacity and prone to overlooking edge cases, AI-powered tools can explore a wider range of scenarios more efficiently. AI improves element identification, making tests more robust against UI changes and reducing maintenance effort, which in turn allows for more tests to be created and maintained. Furthermore, AI can potentially analyze user behavior and application changes to suggest or even generate new test cases, leading to more comprehensive coverage that reflects actual usage patterns. This adaptability and scalability of AI-driven automation far exceed the capabilities of manual testing in achieving and maintaining high test coverage.\n",
            "\n"
          ]
        }
      ]
    },
    {
      "cell_type": "markdown",
      "metadata": {
        "id": "097ef441"
      },
      "source": [
        "## Summary:\n",
        "\n",
        "### Data Analysis Key Findings\n",
        "\n",
        "*   Testim.io was selected as the automated testing tool due to its advanced AI capabilities for test maintenance and stability, which are considered superior to Selenium IDE with AI plugins for demonstrating how AI improves test coverage.\n",
        "*   The process of setting up Testim.io, identifying a login page, recording/creating test cases, running the tests, and capturing results required manual interaction with the Testim.io platform and a web browser, which could not be automated within the provided environment.\n",
        "*   A summary explaining how AI improves test coverage compared to manual testing was successfully generated. This summary highlights that AI-powered tools can explore more scenarios, improve test robustness through better element identification, reduce maintenance effort, and potentially generate new test cases based on user behavior and application changes.\n",
        "\n",
        "### Insights or Next Steps\n",
        "\n",
        "*   For future tasks involving external tools requiring GUI interaction, consider using an environment that supports such operations or focus on tasks that can be completed programmatically.\n",
        "*   The generated summary on AI's role in test coverage can be used as a standalone deliverable or combined with manually obtained test scripts and screenshots if the task were performed in a suitable environment.\n"
      ]
    }
  ]
}