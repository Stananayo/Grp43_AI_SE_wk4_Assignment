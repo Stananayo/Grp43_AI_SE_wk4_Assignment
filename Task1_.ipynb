{
  "nbformat": 4,
  "nbformat_minor": 0,
  "metadata": {
    "colab": {
      "provenance": [],
      "authorship_tag": "ABX9TyOgMvKZjPjNi5eqrOCEJqnm",
      "include_colab_link": true
    },
    "kernelspec": {
      "name": "python3",
      "display_name": "Python 3"
    },
    "language_info": {
      "name": "python"
    }
  },
  "cells": [
    {
      "cell_type": "markdown",
      "metadata": {
        "id": "view-in-github",
        "colab_type": "text"
      },
      "source": [
        "<a href=\"https://colab.research.google.com/github/Stananayo/Grp43_AI_SE_wk4_Assignment/blob/main/Task1_.ipynb\" target=\"_parent\"><img src=\"https://colab.research.google.com/assets/colab-badge.svg\" alt=\"Open In Colab\"/></a>"
      ]
    },
    {
      "cell_type": "code",
      "execution_count": null,
      "metadata": {
        "id": "rJv_2qhQuk-i"
      },
      "outputs": [],
      "source": []
    },
    {
      "cell_type": "markdown",
      "metadata": {
        "id": "182233f8"
      },
      "source": [
        "# Task\n",
        "Write a Python function to sort a list of dictionaries by a specific key, first manually and then using an AI code completion tool. Compare the efficiency of both implementations and document the findings in a 200-word analysis, including the code snippets."
      ]
    },
    {
      "cell_type": "markdown",
      "metadata": {
        "id": "09e104b6"
      },
      "source": [
        "## Write the initial python function manually\n",
        "\n",
        "### Subtask:\n",
        "Create a Python function that sorts a list of dictionaries by a specified key without using any AI tools.\n"
      ]
    },
    {
      "cell_type": "markdown",
      "metadata": {
        "id": "37fea2fa"
      },
      "source": [
        "**Reasoning**:\n",
        "Define the `sort_list_manual` function using a bubble sort algorithm to sort the list of dictionaries by the specified key.\n",
        "\n"
      ]
    },
    {
      "cell_type": "code",
      "metadata": {
        "id": "d6f4250b"
      },
      "source": [
        "def sort_list_manual(list_of_dicts, sort_key):\n",
        "    \"\"\"\n",
        "    Sorts a list of dictionaries by a specific key manually using bubble sort.\n",
        "\n",
        "    Args:\n",
        "        list_of_dicts: The list of dictionaries to sort.\n",
        "        sort_key: The key to sort by.\n",
        "\n",
        "    Returns:\n",
        "        The sorted list of dictionaries.\n",
        "    \"\"\"\n",
        "    n = len(list_of_dicts)\n",
        "    for i in range(n):\n",
        "        for j in range(0, n - i - 1):\n",
        "            if list_of_dicts[j][sort_key] > list_of_dicts[j + 1][sort_key]:\n",
        "                list_of_dicts[j], list_of_dicts[j + 1] = list_of_dicts[j + 1], list_of_dicts[j]\n",
        "    return list_of_dicts\n"
      ],
      "execution_count": 1,
      "outputs": []
    },
    {
      "cell_type": "markdown",
      "metadata": {
        "id": "d0437854"
      },
      "source": [
        "## Generate ai-suggested code\n",
        "\n",
        "### Subtask:\n",
        "Use an AI code completion tool (like GitHub Copilot or Tabnine) to generate code for the same task.\n"
      ]
    },
    {
      "cell_type": "markdown",
      "metadata": {
        "id": "66a41cb9"
      },
      "source": [
        "**Reasoning**:\n",
        "Define a new function `sort_list_ai` and use the `sorted()` function with a lambda key, which is a common and efficient way to sort lists of dictionaries in Python and is likely to be suggested by an AI code completion tool.\n",
        "\n"
      ]
    },
    {
      "cell_type": "code",
      "metadata": {
        "id": "115f92e8"
      },
      "source": [
        "def sort_list_ai(list_of_dicts, sort_key):\n",
        "  \"\"\"\n",
        "  Sorts a list of dictionaries by a specific key using Python's built-in sorted function.\n",
        "\n",
        "  Args:\n",
        "      list_of_dicts: The list of dictionaries to sort.\n",
        "      sort_key: The key to sort by.\n",
        "\n",
        "  Returns:\n",
        "      The sorted list of dictionaries.\n",
        "  \"\"\"\n",
        "  return sorted(list_of_dicts, key=lambda x: x[sort_key])"
      ],
      "execution_count": 2,
      "outputs": []
    },
    {
      "cell_type": "markdown",
      "metadata": {
        "id": "1a253c5e"
      },
      "source": [
        "## Compare and analyze efficiency\n",
        "\n",
        "### Subtask:\n",
        "Compare the two code snippets, considering factors like readability, conciseness, and time complexity. Determine which is likely more efficient and explain why.\n"
      ]
    },
    {
      "cell_type": "markdown",
      "metadata": {
        "id": "25598fa0"
      },
      "source": [
        "**Reasoning**:\n",
        "Analyze and compare the two sorting functions based on the provided criteria: readability, conciseness, and time complexity. Then, determine which is more efficient and explain why.\n",
        "\n"
      ]
    },
    {
      "cell_type": "code",
      "metadata": {
        "colab": {
          "base_uri": "https://localhost:8080/"
        },
        "id": "05432542",
        "outputId": "d12674c7-7a6b-4c54-e141-7c39d311df13"
      },
      "source": [
        "import time\n",
        "\n",
        "def sort_list_manual(list_of_dicts, sort_key):\n",
        "    \"\"\"\n",
        "    Sorts a list of dictionaries by a specific key manually using bubble sort.\n",
        "\n",
        "    Args:\n",
        "        list_of_dicts: The list of dictionaries to sort.\n",
        "        sort_key: The key to sort by.\n",
        "\n",
        "    Returns:\n",
        "        The sorted list of dictionaries.\n",
        "    \"\"\"\n",
        "    n = len(list_of_dicts)\n",
        "    for i in range(n):\n",
        "        for j in range(0, n - i - 1):\n",
        "            if list_of_dicts[j][sort_key] > list_of_dicts[j + 1][sort_key]:\n",
        "                list_of_dicts[j], list_of_dicts[j + 1] = list_of_dicts[j + 1], list_of_dicts[j]\n",
        "    return list_of_dicts\n",
        "\n",
        "def sort_list_ai(list_of_dicts, sort_key):\n",
        "  \"\"\"\n",
        "  Sorts a list of dictionaries by a specific key using Python's built-in sorted function.\n",
        "\n",
        "  Args:\n",
        "      list_of_dicts: The list of dictionaries to sort.\n",
        "      sort_key: The key to sort by.\n",
        "\n",
        "  Returns:\n",
        "      The sorted list of dictionaries.\n",
        "  \"\"\"\n",
        "  return sorted(list_of_dicts, key=lambda x: x[sort_key])\n",
        "\n",
        "# Analysis\n",
        "manual_readability = \"The manual implementation (Bubble Sort) is relatively easy to understand for those familiar with basic sorting algorithms, but it involves nested loops which can make it slightly less intuitive than a single function call.\"\n",
        "ai_readability = \"The AI-generated code using `sorted()` and `lambda` is highly readable for experienced Python developers, leveraging built-in functions that are widely understood. For beginners, the `lambda` function might require a brief explanation.\"\n",
        "\n",
        "manual_conciseness = \"The manual implementation requires several lines of code to implement the sorting logic.\"\n",
        "ai_conciseness = \"The AI-generated code is very concise, achieving the sorting in a single line using the `sorted()` function.\"\n",
        "\n",
        "manual_time_complexity = \"The manual implementation uses Bubble Sort, which has a time complexity of O(n^2) in the worst and average cases, where n is the number of dictionaries in the list.\"\n",
        "ai_time_complexity = \"Python's built-in `sorted()` function uses Timsort, which has a time complexity of O(n log n) in the average and worst cases.\"\n",
        "\n",
        "efficiency_comparison = \"Based on their time complexities, the AI-generated code using Timsort (O(n log n)) is significantly more efficient than the manual implementation using Bubble Sort (O(n^2)) for larger lists. As the size of the list increases, the performance difference between O(n log n) and O(n^2) becomes substantial, with Timsort being much faster.\"\n",
        "\n",
        "print(\"Readability Comparison:\")\n",
        "print(f\"- Manual Implementation: {manual_readability}\")\n",
        "print(f\"- AI-generated Implementation: {ai_readability}\\n\")\n",
        "\n",
        "print(\"Conciseness Comparison:\")\n",
        "print(f\"- Manual Implementation: {manual_conciseness}\")\n",
        "print(f\"- AI-generated Implementation: {ai_conciseness}\\n\")\n",
        "\n",
        "print(\"Time Complexity Comparison:\")\n",
        "print(f\"- Manual Implementation: {manual_time_complexity}\")\n",
        "print(f\"- AI-generated Implementation: {ai_time_complexity}\\n\")\n",
        "\n",
        "print(\"Efficiency Comparison:\")\n",
        "print(efficiency_comparison)"
      ],
      "execution_count": 3,
      "outputs": [
        {
          "output_type": "stream",
          "name": "stdout",
          "text": [
            "Readability Comparison:\n",
            "- Manual Implementation: The manual implementation (Bubble Sort) is relatively easy to understand for those familiar with basic sorting algorithms, but it involves nested loops which can make it slightly less intuitive than a single function call.\n",
            "- AI-generated Implementation: The AI-generated code using `sorted()` and `lambda` is highly readable for experienced Python developers, leveraging built-in functions that are widely understood. For beginners, the `lambda` function might require a brief explanation.\n",
            "\n",
            "Conciseness Comparison:\n",
            "- Manual Implementation: The manual implementation requires several lines of code to implement the sorting logic.\n",
            "- AI-generated Implementation: The AI-generated code is very concise, achieving the sorting in a single line using the `sorted()` function.\n",
            "\n",
            "Time Complexity Comparison:\n",
            "- Manual Implementation: The manual implementation uses Bubble Sort, which has a time complexity of O(n^2) in the worst and average cases, where n is the number of dictionaries in the list.\n",
            "- AI-generated Implementation: Python's built-in `sorted()` function uses Timsort, which has a time complexity of O(n log n) in the average and worst cases.\n",
            "\n",
            "Efficiency Comparison:\n",
            "Based on their time complexities, the AI-generated code using Timsort (O(n log n)) is significantly more efficient than the manual implementation using Bubble Sort (O(n^2)) for larger lists. As the size of the list increases, the performance difference between O(n log n) and O(n^2) becomes substantial, with Timsort being much faster.\n"
          ]
        }
      ]
    },
    {
      "cell_type": "markdown",
      "metadata": {
        "id": "2b54c607"
      },
      "source": [
        "## Document findings\n",
        "\n",
        "### Subtask:\n",
        "Summarize the comparison and analysis in a brief write-up (around 200 words).\n"
      ]
    },
    {
      "cell_type": "markdown",
      "metadata": {
        "id": "6440d43c"
      },
      "source": [
        "**Reasoning**:\n",
        "Write a summary comparing the two sorting functions based on the previous analysis, focusing on readability, conciseness, and efficiency, and explicitly stating which is more efficient with explanations of their time complexities.\n",
        "\n"
      ]
    },
    {
      "cell_type": "code",
      "metadata": {
        "colab": {
          "base_uri": "https://localhost:8080/"
        },
        "id": "5a1b9c64",
        "outputId": "d5476943-9518-42b1-a0c5-d73ca28ebbfe"
      },
      "source": [
        "summary = \"\"\"\n",
        "Comparison of Manual and AI-Generated Sorting Functions:\n",
        "\n",
        "We compared two Python functions for sorting a list of dictionaries by a specific key: a manual implementation using Bubble Sort (`sort_list_manual`) and an AI-generated implementation using Python's built-in `sorted()` function (`sort_list_ai`).\n",
        "\n",
        "Readability: The manual function is understandable but uses nested loops. The AI-generated code is concise and leverages a common Python idiom (`sorted` with `lambda`), making it highly readable for experienced users but potentially less so for beginners.\n",
        "\n",
        "Conciseness: The manual implementation requires multiple lines for the sorting logic. The AI-generated code is significantly more concise, sorting the list in a single line.\n",
        "\n",
        "Efficiency: This is where the biggest difference lies. The manual implementation uses Bubble Sort, which has a time complexity of O(n^2). Python's built-in `sorted()` function, used in the AI-generated code, utilizes Timsort, which has a time complexity of O(n log n). Therefore, the AI-generated implementation is significantly more efficient, especially as the size of the list increases, due to its superior time complexity.\n",
        "\n",
        "In conclusion, while the manual implementation is a good exercise in understanding sorting algorithms, the AI-generated code, leveraging Python's optimized built-in functions, is more concise, and significantly more efficient for practical use cases.\n",
        "\"\"\"\n",
        "print(summary)"
      ],
      "execution_count": 4,
      "outputs": [
        {
          "output_type": "stream",
          "name": "stdout",
          "text": [
            "\n",
            "Comparison of Manual and AI-Generated Sorting Functions:\n",
            "\n",
            "We compared two Python functions for sorting a list of dictionaries by a specific key: a manual implementation using Bubble Sort (`sort_list_manual`) and an AI-generated implementation using Python's built-in `sorted()` function (`sort_list_ai`).\n",
            "\n",
            "Readability: The manual function is understandable but uses nested loops. The AI-generated code is concise and leverages a common Python idiom (`sorted` with `lambda`), making it highly readable for experienced users but potentially less so for beginners.\n",
            "\n",
            "Conciseness: The manual implementation requires multiple lines for the sorting logic. The AI-generated code is significantly more concise, sorting the list in a single line.\n",
            "\n",
            "Efficiency: This is where the biggest difference lies. The manual implementation uses Bubble Sort, which has a time complexity of O(n^2). Python's built-in `sorted()` function, used in the AI-generated code, utilizes Timsort, which has a time complexity of O(n log n). Therefore, the AI-generated implementation is significantly more efficient, especially as the size of the list increases, due to its superior time complexity.\n",
            "\n",
            "In conclusion, while the manual implementation is a good exercise in understanding sorting algorithms, the AI-generated code, leveraging Python's optimized built-in functions, is more concise, and significantly more efficient for practical use cases.\n",
            "\n"
          ]
        }
      ]
    },
    {
      "cell_type": "markdown",
      "metadata": {
        "id": "bc585400"
      },
      "source": [
        "## Present deliverables\n",
        "\n",
        "### Subtask:\n",
        "Provide the two code snippets and the written analysis.\n"
      ]
    },
    {
      "cell_type": "markdown",
      "metadata": {
        "id": "a28d1903"
      },
      "source": [
        "**Reasoning**:\n",
        "Print the code for the two functions and the summary analysis.\n",
        "\n"
      ]
    },
    {
      "cell_type": "code",
      "metadata": {
        "colab": {
          "base_uri": "https://localhost:8080/"
        },
        "id": "8c12b03c",
        "outputId": "caf78df1-146a-4caa-dce2-f783233a1758"
      },
      "source": [
        "def sort_list_manual(list_of_dicts, sort_key):\n",
        "    \"\"\"\n",
        "    Sorts a list of dictionaries by a specific key manually using bubble sort.\n",
        "\n",
        "    Args:\n",
        "        list_of_dicts: The list of dictionaries to sort.\n",
        "        sort_key: The key to sort by.\n",
        "\n",
        "    Returns:\n",
        "        The sorted list of dictionaries.\n",
        "    \"\"\"\n",
        "    n = len(list_of_dicts)\n",
        "    for i in range(n):\n",
        "        for j in range(0, n - i - 1):\n",
        "            if list_of_dicts[j][sort_key] > list_of_dicts[j + 1][sort_key]:\n",
        "                list_of_dicts[j], list_of_dicts[j + 1] = list_of_dicts[j + 1], list_of_dicts[j]\n",
        "    return list_of_dicts\n",
        "\n",
        "def sort_list_ai(list_of_dicts, sort_key):\n",
        "  \"\"\"\n",
        "  Sorts a list of dictionaries by a specific key using Python's built-in sorted function.\n",
        "\n",
        "  Args:\n",
        "      list_of_dicts: The list of dictionaries to sort.\n",
        "      sort_key: The key to sort by.\n",
        "\n",
        "  Returns:\n",
        "      The sorted list of dictionaries.\n",
        "  \"\"\"\n",
        "  return sorted(list_of_dicts, key=lambda x: x[sort_key])\n",
        "\n",
        "summary = \"\"\"\n",
        "Comparison of Manual and AI-Generated Sorting Functions:\n",
        "\n",
        "We compared two Python functions for sorting a list of dictionaries by a specific key: a manual implementation using Bubble Sort (`sort_list_manual`) and an AI-generated implementation using Python's built-in `sorted()` function (`sort_list_ai`).\n",
        "\n",
        "Readability: The manual function is understandable but uses nested loops. The AI-generated code is concise and leverages a common Python idiom (`sorted` with `lambda`), making it highly readable for experienced users but potentially less so for beginners.\n",
        "\n",
        "Conciseness: The manual implementation requires multiple lines for the sorting logic. The AI-generated code is significantly more concise, sorting the list in a single line.\n",
        "\n",
        "Efficiency: This is where the biggest difference lies. The manual implementation uses Bubble Sort, which has a time complexity of O(n^2). Python's built-in `sorted()` function, used in the AI-generated code, utilizes Timsort, which has a time complexity of O(n log n). Therefore, the AI-generated implementation is significantly more efficient, especially as the size of the list increases, due to its superior time complexity.\n",
        "\n",
        "In conclusion, while the manual implementation is a good exercise in understanding sorting algorithms, the AI-generated code, leveraging Python's optimized built-in functions, is more concise, and significantly more efficient for practical use cases.\n",
        "\"\"\"\n",
        "\n",
        "print(\"--- Manual Sorting Function ---\")\n",
        "print(sort_list_manual.__doc__)\n",
        "print(\"--- AI-Generated Sorting Function ---\")\n",
        "print(sort_list_ai.__doc__)\n",
        "print(\"--- Analysis Summary ---\")\n",
        "print(summary)"
      ],
      "execution_count": 5,
      "outputs": [
        {
          "output_type": "stream",
          "name": "stdout",
          "text": [
            "--- Manual Sorting Function ---\n",
            "\n",
            "    Sorts a list of dictionaries by a specific key manually using bubble sort.\n",
            "\n",
            "    Args:\n",
            "        list_of_dicts: The list of dictionaries to sort.\n",
            "        sort_key: The key to sort by.\n",
            "\n",
            "    Returns:\n",
            "        The sorted list of dictionaries.\n",
            "    \n",
            "--- AI-Generated Sorting Function ---\n",
            "\n",
            "  Sorts a list of dictionaries by a specific key using Python's built-in sorted function.\n",
            "\n",
            "  Args:\n",
            "      list_of_dicts: The list of dictionaries to sort.\n",
            "      sort_key: The key to sort by.\n",
            "\n",
            "  Returns:\n",
            "      The sorted list of dictionaries.\n",
            "  \n",
            "--- Analysis Summary ---\n",
            "\n",
            "Comparison of Manual and AI-Generated Sorting Functions:\n",
            "\n",
            "We compared two Python functions for sorting a list of dictionaries by a specific key: a manual implementation using Bubble Sort (`sort_list_manual`) and an AI-generated implementation using Python's built-in `sorted()` function (`sort_list_ai`).\n",
            "\n",
            "Readability: The manual function is understandable but uses nested loops. The AI-generated code is concise and leverages a common Python idiom (`sorted` with `lambda`), making it highly readable for experienced users but potentially less so for beginners.\n",
            "\n",
            "Conciseness: The manual implementation requires multiple lines for the sorting logic. The AI-generated code is significantly more concise, sorting the list in a single line.\n",
            "\n",
            "Efficiency: This is where the biggest difference lies. The manual implementation uses Bubble Sort, which has a time complexity of O(n^2). Python's built-in `sorted()` function, used in the AI-generated code, utilizes Timsort, which has a time complexity of O(n log n). Therefore, the AI-generated implementation is significantly more efficient, especially as the size of the list increases, due to its superior time complexity.\n",
            "\n",
            "In conclusion, while the manual implementation is a good exercise in understanding sorting algorithms, the AI-generated code, leveraging Python's optimized built-in functions, is more concise, and significantly more efficient for practical use cases.\n",
            "\n"
          ]
        }
      ]
    },
    {
      "cell_type": "markdown",
      "metadata": {
        "id": "2c435bf1"
      },
      "source": [
        "## Summary:\n",
        "\n",
        "### Data Analysis Key Findings\n",
        "\n",
        "*   Two Python functions for sorting a list of dictionaries by a specified key were created: `sort_list_manual` using a manual Bubble Sort implementation and `sort_list_ai` using Python's built-in `sorted()` function with a `lambda` key.\n",
        "*   The manual implementation is more verbose and uses nested loops, while the AI-generated code is concise and uses a single line with `sorted()` and `lambda`.\n",
        "*   The manual implementation (Bubble Sort) has a time complexity of O(n^2), while the AI-generated implementation using Python's built-in Timsort has a time complexity of O(n log n).\n",
        "*   The AI-generated code is significantly more efficient than the manual implementation, especially for larger lists, due to its lower time complexity.\n",
        "\n",
        "### Insights or Next Steps\n",
        "\n",
        "*   Leveraging Python's built-in functions like `sorted()` often provides more optimized and concise solutions compared to manual implementations of standard algorithms.\n",
        "*   AI code completion tools can quickly suggest efficient and idiomatic solutions by utilizing these built-in functions, saving development time and improving performance.\n"
      ]
    }
  ]
}