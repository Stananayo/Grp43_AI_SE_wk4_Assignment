{
  "nbformat": 4,
  "nbformat_minor": 0,
  "metadata": {
    "colab": {
      "provenance": [],
      "authorship_tag": "ABX9TyPGpxL4dkH+kjzHiBALLB2y"
    },
    "kernelspec": {
      "name": "python3",
      "display_name": "Python 3"
    },
    "language_info": {
      "name": "python"
    }
  },
  "cells": [
    {
      "cell_type": "code",
      "execution_count": null,
      "metadata": {
        "id": "Gb1WzLuoxsTi"
      },
      "outputs": [],
      "source": [
        "## Task 3: Predictive Analytics for Resource Allocation\n",
        "\n",
        "## Dataset: Use Kaggle Breast Cancer Dataset.\n",
        "\n",
        "## Goal:\n",
        "\n",
        "## Preprocess data (clean, label, split).\n",
        "\n",
        "## Train a model (e.g., Random Forest) to predict issue priority (high/medium/low).\n",
        "\n",
        "## Evaluate using accuracy and F1-score.\n",
        "\n",
        "## Deliverable: Jupyter Notebook + performance metrics."
      ]
    },
    {
      "cell_type": "markdown",
      "metadata": {
        "id": "2a4f0c7f"
      },
      "source": [
        "# Task\n",
        "Analyze the Kaggle Breast Cancer dataset to predict issue priority (high/medium/low) using a Random Forest model. Preprocess the data, train the model, and evaluate its performance using accuracy and F1-score. Deliver a Jupyter Notebook with the code and performance metrics."
      ]
    },
    {
      "cell_type": "markdown",
      "metadata": {
        "id": "6d66c93b"
      },
      "source": [
        "## Load data\n",
        "\n",
        "### Subtask:\n",
        "Load the Kaggle Breast Cancer dataset into a pandas DataFrame.\n"
      ]
    },
    {
      "cell_type": "markdown",
      "metadata": {
        "id": "55914e93"
      },
      "source": [
        "**Reasoning**:\n",
        "Import pandas and load the dataset into a DataFrame.\n",
        "\n"
      ]
    },
    {
      "cell_type": "code",
      "metadata": {
        "id": "d20ccce8"
      },
      "source": [
        "import pandas as pd\n",
        "\n",
        "df = pd.read_csv('data.csv')\n",
        "display(df.head())"
      ],
      "execution_count": null,
      "outputs": []
    },
    {
      "cell_type": "markdown",
      "metadata": {
        "id": "3f588e6d"
      },
      "source": [
        "## Preprocess data\n",
        "\n",
        "### Subtask:\n",
        "Handle missing values, encode categorical features, define the target variable, and split the data into training and testing sets.\n"
      ]
    },
    {
      "cell_type": "markdown",
      "metadata": {
        "id": "26061e97"
      },
      "source": [
        "**Reasoning**:\n",
        "Handle missing values, encode categorical features, define the target variable, and split the data into training and testing sets as per the instructions.\n",
        "\n"
      ]
    },
    {
      "cell_type": "code",
      "metadata": {
        "colab": {
          "base_uri": "https://localhost:8080/",
          "height": 228
        },
        "id": "74a5540a",
        "outputId": "bbec361f-72d8-486a-f298-dbc1e380ee2b"
      },
      "source": [
        "# 1. Check for missing values\n",
        "print(\"Missing values before handling:\")\n",
        "print(df.isnull().sum())\n",
        "\n",
        "# The 'Unnamed: 32' column seems to contain only missing values or irrelevant data, so drop it.\n",
        "if 'Unnamed: 32' in df.columns:\n",
        "    df = df.drop(columns=['Unnamed: 32'])\n",
        "\n",
        "# No other significant missing values apparent from the head and info.\n",
        "\n",
        "# 2. Encode categorical features\n",
        "# The 'diagnosis' column is categorical and needs to be encoded.\n",
        "# We will use label encoding as there are only two classes and this will be used to synthesize the target variable.\n",
        "from sklearn.preprocessing import LabelEncoder\n",
        "\n",
        "label_encoder = LabelEncoder()\n",
        "df['diagnosis_encoded'] = label_encoder.fit_transform(df['diagnosis'])\n",
        "\n",
        "# 3. Define the target variable 'issue_priority'\n",
        "# Synthesize 'issue_priority' from 'diagnosis_encoded':\n",
        "# 0 (Benign) -> 'low'\n",
        "# 1 (Malignant) -> 'high'\n",
        "# We don't have a 'medium' category based on the original diagnosis, so we will just use 'high' and 'low'.\n",
        "df['issue_priority'] = df['diagnosis_encoded'].apply(lambda x: 'high' if x == 1 else 'low')\n",
        "\n",
        "# We can drop the original 'diagnosis' and 'diagnosis_encoded' columns if not needed for the model features.\n",
        "# For this task, we will keep diagnosis_encoded as it is the numerical representation we will use for the target in the split.\n",
        "# However, the prompt asks for 'issue_priority' as the target, which is categorical.\n",
        "# Let's re-encode 'issue_priority' to numerical for model training.\n",
        "df['issue_priority_encoded'] = label_encoder.fit_transform(df['issue_priority'])\n",
        "\n",
        "\n",
        "# Drop the original 'diagnosis' column and the intermediate 'diagnosis_encoded' if you only want the final encoded target and features.\n",
        "df = df.drop(columns=['diagnosis', 'diagnosis_encoded'])\n",
        "\n",
        "# Separate features (X) and target (y)\n",
        "X = df.drop(columns=['id', 'issue_priority', 'issue_priority_encoded']) # Drop id and the original and categorical target columns\n",
        "y = df['issue_priority_encoded']\n",
        "\n",
        "# 4. Split data into training and testing sets\n",
        "from sklearn.model_selection import train_test_split\n",
        "\n",
        "X_train, X_test, y_train, y_test = train_test_split(X, y, test_size=0.2, random_state=42, stratify=y)\n",
        "\n",
        "print(\"\\nData preprocessing and splitting complete.\")\n",
        "print(f\"Shape of X_train: {X_train.shape}\")\n",
        "print(f\"Shape of X_test: {X_test.shape}\")\n",
        "print(f\"Shape of y_train: {y_train.shape}\")\n",
        "print(f\"Shape of y_test: {y_test.shape}\")\n"
      ],
      "execution_count": 1,
      "outputs": [
        {
          "output_type": "stream",
          "name": "stdout",
          "text": [
            "Missing values before handling:\n"
          ]
        },
        {
          "output_type": "error",
          "ename": "NameError",
          "evalue": "name 'df' is not defined",
          "traceback": [
            "\u001b[0;31m---------------------------------------------------------------------------\u001b[0m",
            "\u001b[0;31mNameError\u001b[0m                                 Traceback (most recent call last)",
            "\u001b[0;32m/tmp/ipython-input-1-3842092407.py\u001b[0m in \u001b[0;36m<cell line: 0>\u001b[0;34m()\u001b[0m\n\u001b[1;32m      1\u001b[0m \u001b[0;31m# 1. Check for missing values\u001b[0m\u001b[0;34m\u001b[0m\u001b[0;34m\u001b[0m\u001b[0m\n\u001b[1;32m      2\u001b[0m \u001b[0mprint\u001b[0m\u001b[0;34m(\u001b[0m\u001b[0;34m\"Missing values before handling:\"\u001b[0m\u001b[0;34m)\u001b[0m\u001b[0;34m\u001b[0m\u001b[0;34m\u001b[0m\u001b[0m\n\u001b[0;32m----> 3\u001b[0;31m \u001b[0mprint\u001b[0m\u001b[0;34m(\u001b[0m\u001b[0mdf\u001b[0m\u001b[0;34m.\u001b[0m\u001b[0misnull\u001b[0m\u001b[0;34m(\u001b[0m\u001b[0;34m)\u001b[0m\u001b[0;34m.\u001b[0m\u001b[0msum\u001b[0m\u001b[0;34m(\u001b[0m\u001b[0;34m)\u001b[0m\u001b[0;34m)\u001b[0m\u001b[0;34m\u001b[0m\u001b[0;34m\u001b[0m\u001b[0m\n\u001b[0m\u001b[1;32m      4\u001b[0m \u001b[0;34m\u001b[0m\u001b[0m\n\u001b[1;32m      5\u001b[0m \u001b[0;31m# The 'Unnamed: 32' column seems to contain only missing values or irrelevant data, so drop it.\u001b[0m\u001b[0;34m\u001b[0m\u001b[0;34m\u001b[0m\u001b[0m\n",
            "\u001b[0;31mNameError\u001b[0m: name 'df' is not defined"
          ]
        }
      ]
    },
    {
      "cell_type": "markdown",
      "metadata": {
        "id": "8efeeb6b"
      },
      "source": [
        "**Reasoning**:\n",
        "The error indicates that the DataFrame `df` was not recognized. This is likely due to a kernel issue or the previous cell not executing correctly. I need to reload the data and then proceed with the preprocessing steps again.\n",
        "\n"
      ]
    },
    {
      "cell_type": "code",
      "metadata": {
        "colab": {
          "base_uri": "https://localhost:8080/"
        },
        "id": "MN9dIXV-yCWm",
        "outputId": "f550a4cf-8c1e-4082-8487-5731e9a7d8f4"
      },
      "source": [
        "import pandas as pd\n",
        "from sklearn.preprocessing import LabelEncoder\n",
        "from sklearn.model_selection import train_test_split\n",
        "\n",
        "# Reload the data\n",
        "try:\n",
        "    df = pd.read_csv('data.csv')\n",
        "    print(\"Data reloaded successfully.\")\n",
        "    display(df.head())\n",
        "\n",
        "    # 1. Check for missing values\n",
        "    print(\"Missing values before handling:\")\n",
        "    print(df.isnull().sum())\n",
        "\n",
        "    # The 'Unnamed: 32' column seems to contain only missing values or irrelevant data, so drop it.\n",
        "    if 'Unnamed: 32' in df.columns:\n",
        "        df = df.drop(columns=['Unnamed: 32'])\n",
        "\n",
        "    # No other significant missing values apparent.\n",
        "\n",
        "    # 2. Encode categorical features and define the target variable\n",
        "    # The 'diagnosis' column is categorical.\n",
        "    # Synthesize 'issue_priority' from 'diagnosis'.\n",
        "    # 'M' (malignant) -> 'high'\n",
        "    # 'B' (benign) -> 'low'\n",
        "    df['issue_priority'] = df['diagnosis'].apply(lambda x: 'high' if x == 'M' else 'low')\n",
        "\n",
        "    # Encode 'issue_priority' to numerical for model training.\n",
        "    label_encoder = LabelEncoder()\n",
        "    df['issue_priority_encoded'] = label_encoder.fit_transform(df['issue_priority'])\n",
        "\n",
        "    # Drop the original 'diagnosis' column and the categorical 'issue_priority' column.\n",
        "    df = df.drop(columns=['id', 'diagnosis', 'issue_priority']) # Drop 'id' as it's not a feature\n",
        "\n",
        "    # Separate features (X) and target (y)\n",
        "    X = df.drop(columns=['issue_priority_encoded'])\n",
        "    y = df['issue_priority_encoded']\n",
        "\n",
        "    # 3. Split data into training and testing sets\n",
        "    X_train, X_test, y_train, y_test = train_test_split(X, y, test_size=0.2, random_state=42, stratify=y)\n",
        "\n",
        "    print(\"\\nData preprocessing and splitting complete.\")\n",
        "    print(f\"Shape of X_train: {X_train.shape}\")\n",
        "    print(f\"Shape of X_test: {X_test.shape}\")\n",
        "    print(f\"Shape of y_train: {y_train.shape}\")\n",
        "    print(f\"Shape of y_test: {y_test.shape}\")\n",
        "\n",
        "except FileNotFoundError:\n",
        "    print(\"Error: 'data.csv' not found. Please make sure the dataset is in the correct directory.\")\n",
        "except Exception as e:\n",
        "    print(f\"An error occurred: {e}\")\n"
      ],
      "execution_count": 2,
      "outputs": [
        {
          "output_type": "stream",
          "name": "stdout",
          "text": [
            "Error: 'data.csv' not found. Please make sure the dataset is in the correct directory.\n"
          ]
        }
      ]
    },
    {
      "cell_type": "markdown",
      "metadata": {
        "id": "b629709d"
      },
      "source": [
        "## Train model\n",
        "\n",
        "### Subtask:\n",
        "Train a Random Forest classifier on the training data.\n"
      ]
    },
    {
      "cell_type": "markdown",
      "metadata": {
        "id": "3f966574"
      },
      "source": [
        "**Reasoning**:\n",
        "Import the necessary class and train the Random Forest classifier using the training data.\n",
        "\n"
      ]
    },
    {
      "cell_type": "code",
      "metadata": {
        "colab": {
          "base_uri": "https://localhost:8080/",
          "height": 211
        },
        "id": "f5a41e9d",
        "outputId": "18c1669f-8a92-4ee8-df65-f17847b8858f"
      },
      "source": [
        "from sklearn.ensemble import RandomForestClassifier\n",
        "\n",
        "# Instantiate the Random Forest Classifier\n",
        "# Using default parameters initially\n",
        "rf_model = RandomForestClassifier(random_state=42) # Added random_state for reproducibility\n",
        "\n",
        "# Fit the model to the training data\n",
        "rf_model.fit(X_train, y_train)\n",
        "\n",
        "print(\"Random Forest model training complete.\")"
      ],
      "execution_count": 3,
      "outputs": [
        {
          "output_type": "error",
          "ename": "NameError",
          "evalue": "name 'X_train' is not defined",
          "traceback": [
            "\u001b[0;31m---------------------------------------------------------------------------\u001b[0m",
            "\u001b[0;31mNameError\u001b[0m                                 Traceback (most recent call last)",
            "\u001b[0;32m/tmp/ipython-input-3-603092265.py\u001b[0m in \u001b[0;36m<cell line: 0>\u001b[0;34m()\u001b[0m\n\u001b[1;32m      6\u001b[0m \u001b[0;34m\u001b[0m\u001b[0m\n\u001b[1;32m      7\u001b[0m \u001b[0;31m# Fit the model to the training data\u001b[0m\u001b[0;34m\u001b[0m\u001b[0;34m\u001b[0m\u001b[0m\n\u001b[0;32m----> 8\u001b[0;31m \u001b[0mrf_model\u001b[0m\u001b[0;34m.\u001b[0m\u001b[0mfit\u001b[0m\u001b[0;34m(\u001b[0m\u001b[0mX_train\u001b[0m\u001b[0;34m,\u001b[0m \u001b[0my_train\u001b[0m\u001b[0;34m)\u001b[0m\u001b[0;34m\u001b[0m\u001b[0;34m\u001b[0m\u001b[0m\n\u001b[0m\u001b[1;32m      9\u001b[0m \u001b[0;34m\u001b[0m\u001b[0m\n\u001b[1;32m     10\u001b[0m \u001b[0mprint\u001b[0m\u001b[0;34m(\u001b[0m\u001b[0;34m\"Random Forest model training complete.\"\u001b[0m\u001b[0;34m)\u001b[0m\u001b[0;34m\u001b[0m\u001b[0;34m\u001b[0m\u001b[0m\n",
            "\u001b[0;31mNameError\u001b[0m: name 'X_train' is not defined"
          ]
        }
      ]
    },
    {
      "cell_type": "markdown",
      "metadata": {
        "id": "18097479"
      },
      "source": [
        "**Reasoning**:\n",
        "The previous step failed because `X_train` and `y_train` were not defined in the current session. This is likely because the previous subtask failed and the variables were not persisted. I need to re-run the data loading and preprocessing steps to ensure the training data is available before training the model.\n",
        "\n"
      ]
    },
    {
      "cell_type": "code",
      "metadata": {
        "colab": {
          "base_uri": "https://localhost:8080/"
        },
        "id": "yWgTx8YRyIbM",
        "outputId": "37230d08-d02b-4667-d30f-662a294c0f47"
      },
      "source": [
        "import pandas as pd\n",
        "from sklearn.preprocessing import LabelEncoder\n",
        "from sklearn.model_selection import train_test_split\n",
        "from sklearn.ensemble import RandomForestClassifier\n",
        "\n",
        "# Reload the data\n",
        "try:\n",
        "    df = pd.read_csv('data.csv')\n",
        "    print(\"Data reloaded successfully.\")\n",
        "    # No need to display head again\n",
        "\n",
        "    # Check for missing values - already checked, proceeding with known steps\n",
        "    if 'Unnamed: 32' in df.columns:\n",
        "        df = df.drop(columns=['Unnamed: 32'])\n",
        "\n",
        "    # Synthesize 'issue_priority' from 'diagnosis'.\n",
        "    # 'M' (malignant) -> 'high'\n",
        "    # 'B' (benign) -> 'low'\n",
        "    df['issue_priority'] = df['diagnosis'].apply(lambda x: 'high' if x == 'M' else 'low')\n",
        "\n",
        "    # Encode 'issue_priority' to numerical for model training.\n",
        "    label_encoder = LabelEncoder()\n",
        "    df['issue_priority_encoded'] = label_encoder.fit_transform(df['issue_priority'])\n",
        "\n",
        "    # Drop the original 'diagnosis' column and the categorical 'issue_priority' column.\n",
        "    df = df.drop(columns=['id', 'diagnosis', 'issue_priority']) # Drop 'id' as it's not a feature\n",
        "\n",
        "    # Separate features (X) and target (y)\n",
        "    X = df.drop(columns=['issue_priority_encoded'])\n",
        "    y = df['issue_priority_encoded']\n",
        "\n",
        "    # Split data into training and testing sets\n",
        "    X_train, X_test, y_train, y_test = train_test_split(X, y, test_size=0.2, random_state=42, stratify=y)\n",
        "\n",
        "    print(\"Data preprocessing and splitting complete.\")\n",
        "    print(f\"Shape of X_train: {X_train.shape}\")\n",
        "    print(f\"Shape of y_train: {y_train.shape}\")\n",
        "\n",
        "    # Now train the Random Forest model\n",
        "    # Instantiate the Random Forest Classifier\n",
        "    # Using default parameters initially\n",
        "    rf_model = RandomForestClassifier(random_state=42) # Added random_state for reproducibility\n",
        "\n",
        "    # Fit the model to the training data\n",
        "    rf_model.fit(X_train, y_train)\n",
        "\n",
        "    print(\"Random Forest model training complete.\")\n",
        "\n",
        "except FileNotFoundError:\n",
        "    print(\"Error: 'data.csv' not found. Please make sure the dataset is in the correct directory.\")\n",
        "except Exception as e:\n",
        "    print(f\"An error occurred: {e}\")"
      ],
      "execution_count": 4,
      "outputs": [
        {
          "output_type": "stream",
          "name": "stdout",
          "text": [
            "Error: 'data.csv' not found. Please make sure the dataset is in the correct directory.\n"
          ]
        }
      ]
    },
    {
      "cell_type": "markdown",
      "metadata": {
        "id": "384461fa"
      },
      "source": [
        "## Evaluate model\n",
        "\n",
        "### Subtask:\n",
        "Evaluate the trained model using accuracy and F1-score on the test data.\n"
      ]
    },
    {
      "cell_type": "markdown",
      "metadata": {
        "id": "10c3933b"
      },
      "source": [
        "**Reasoning**:\n",
        "Import the necessary metrics, make predictions, calculate accuracy and F1-score, and print the results.\n",
        "\n"
      ]
    },
    {
      "cell_type": "code",
      "metadata": {
        "colab": {
          "base_uri": "https://localhost:8080/",
          "height": 211
        },
        "id": "80c8a7fa",
        "outputId": "7df53714-efd5-4e82-8018-9837b60fe916"
      },
      "source": [
        "from sklearn.metrics import accuracy_score, f1_score\n",
        "\n",
        "# Make predictions on the test data\n",
        "y_pred = rf_model.predict(X_test)\n",
        "\n",
        "# Calculate Accuracy\n",
        "accuracy = accuracy_score(y_test, y_pred)\n",
        "\n",
        "# Calculate F1-score\n",
        "# For binary classification, use 'binary' average\n",
        "f1 = f1_score(y_test, y_pred, average='binary')\n",
        "\n",
        "# Print the performance metrics\n",
        "print(f\"Model Accuracy: {accuracy:.4f}\")\n",
        "print(f\"Model F1-score: {f1:.4f}\")"
      ],
      "execution_count": 5,
      "outputs": [
        {
          "output_type": "error",
          "ename": "NameError",
          "evalue": "name 'X_test' is not defined",
          "traceback": [
            "\u001b[0;31m---------------------------------------------------------------------------\u001b[0m",
            "\u001b[0;31mNameError\u001b[0m                                 Traceback (most recent call last)",
            "\u001b[0;32m/tmp/ipython-input-5-2515077216.py\u001b[0m in \u001b[0;36m<cell line: 0>\u001b[0;34m()\u001b[0m\n\u001b[1;32m      2\u001b[0m \u001b[0;34m\u001b[0m\u001b[0m\n\u001b[1;32m      3\u001b[0m \u001b[0;31m# Make predictions on the test data\u001b[0m\u001b[0;34m\u001b[0m\u001b[0;34m\u001b[0m\u001b[0m\n\u001b[0;32m----> 4\u001b[0;31m \u001b[0my_pred\u001b[0m \u001b[0;34m=\u001b[0m \u001b[0mrf_model\u001b[0m\u001b[0;34m.\u001b[0m\u001b[0mpredict\u001b[0m\u001b[0;34m(\u001b[0m\u001b[0mX_test\u001b[0m\u001b[0;34m)\u001b[0m\u001b[0;34m\u001b[0m\u001b[0;34m\u001b[0m\u001b[0m\n\u001b[0m\u001b[1;32m      5\u001b[0m \u001b[0;34m\u001b[0m\u001b[0m\n\u001b[1;32m      6\u001b[0m \u001b[0;31m# Calculate Accuracy\u001b[0m\u001b[0;34m\u001b[0m\u001b[0;34m\u001b[0m\u001b[0m\n",
            "\u001b[0;31mNameError\u001b[0m: name 'X_test' is not defined"
          ]
        }
      ]
    },
    {
      "cell_type": "markdown",
      "metadata": {
        "id": "699233cb"
      },
      "source": [
        "**Reasoning**:\n",
        "The previous step failed because the variables `X_test`, `y_test`, and `rf_model` were not defined, indicating that the data loading, preprocessing, and model training steps were not successfully completed in the current session. The code needs to re-execute the entire pipeline up to the evaluation step.\n",
        "\n"
      ]
    },
    {
      "cell_type": "code",
      "metadata": {
        "colab": {
          "base_uri": "https://localhost:8080/"
        },
        "id": "EMzxludlyNjF",
        "outputId": "7dcd8aed-1334-453e-c0b8-389bddbbcffb"
      },
      "source": [
        "import pandas as pd\n",
        "from sklearn.preprocessing import LabelEncoder\n",
        "from sklearn.model_selection import train_test_split\n",
        "from sklearn.ensemble import RandomForestClassifier\n",
        "from sklearn.metrics import accuracy_score, f1_score\n",
        "\n",
        "# Reload the data\n",
        "try:\n",
        "    df = pd.read_csv('data.csv')\n",
        "    print(\"Data reloaded successfully.\")\n",
        "\n",
        "    # Check for missing values - already checked, proceeding with known steps\n",
        "    if 'Unnamed: 32' in df.columns:\n",
        "        df = df.drop(columns=['Unnamed: 32'])\n",
        "\n",
        "    # Synthesize 'issue_priority' from 'diagnosis'.\n",
        "    # 'M' (malignant) -> 'high'\n",
        "    # 'B' (benign) -> 'low'\n",
        "    df['issue_priority'] = df['diagnosis'].apply(lambda x: 'high' if x == 'M' else 'low')\n",
        "\n",
        "    # Encode 'issue_priority' to numerical for model training.\n",
        "    label_encoder = LabelEncoder()\n",
        "    df['issue_priority_encoded'] = label_encoder.fit_transform(df['issue_priority'])\n",
        "\n",
        "    # Drop the original 'diagnosis' column and the categorical 'issue_priority' column.\n",
        "    df = df.drop(columns=['id', 'diagnosis', 'issue_priority']) # Drop 'id' as it's not a feature\n",
        "\n",
        "    # Separate features (X) and target (y)\n",
        "    X = df.drop(columns=['issue_priority_encoded'])\n",
        "    y = df['issue_priority_encoded']\n",
        "\n",
        "    # Split data into training and testing sets\n",
        "    X_train, X_test, y_train, y_test = train_test_split(X, y, test_size=0.2, random_state=42, stratify=y)\n",
        "\n",
        "    print(\"Data preprocessing and splitting complete.\")\n",
        "\n",
        "    # Train the Random Forest model\n",
        "    rf_model = RandomForestClassifier(random_state=42)\n",
        "    rf_model.fit(X_train, y_train)\n",
        "    print(\"Random Forest model training complete.\")\n",
        "\n",
        "    # Make predictions on the test data\n",
        "    y_pred = rf_model.predict(X_test)\n",
        "\n",
        "    # Calculate Accuracy\n",
        "    accuracy = accuracy_score(y_test, y_pred)\n",
        "\n",
        "    # Calculate F1-score\n",
        "    f1 = f1_score(y_test, y_pred, average='binary') # Use 'binary' as we have encoded 'high' and 'low'\n",
        "\n",
        "    # Print the performance metrics\n",
        "    print(f\"Model Accuracy: {accuracy:.4f}\")\n",
        "    print(f\"Model F1-score: {f1:.4f}\")\n",
        "\n",
        "except FileNotFoundError:\n",
        "    print(\"Error: 'data.csv' not found. Please make sure the dataset is in the correct directory.\")\n",
        "except Exception as e:\n",
        "    print(f\"An error occurred: {e}\")"
      ],
      "execution_count": 6,
      "outputs": [
        {
          "output_type": "stream",
          "name": "stdout",
          "text": [
            "Error: 'data.csv' not found. Please make sure the dataset is in the correct directory.\n"
          ]
        }
      ]
    },
    {
      "cell_type": "markdown",
      "metadata": {
        "id": "00f573aa"
      },
      "source": [
        "## Summary:\n",
        "\n",
        "### Data Analysis Key Findings\n",
        "\n",
        "*   The analysis aimed to predict issue priority (synthesized from breast cancer diagnosis as 'high' for malignant and 'low' for benign) using a Random Forest classifier.\n",
        "*   The process involved loading the dataset, preprocessing it (handling missing values and encoding the target), splitting the data, training a Random Forest model, and evaluating its performance using accuracy and F1-score.\n",
        "*   The execution of the steps was blocked because the required data file, 'data.csv', was not found in the expected directory, preventing the loading and subsequent processing of the data.\n",
        "\n",
        "### Insights or Next Steps\n",
        "\n",
        "*   Ensure the 'data.csv' file is available in the correct directory for the code to run successfully.\n",
        "*   Once the data is accessible, re-run the entire pipeline to load, preprocess, train, and evaluate the model.\n"
      ]
    }
  ]
}